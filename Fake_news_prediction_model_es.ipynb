{
 "cells": [
  {
   "cell_type": "code",
   "execution_count": 1,
   "metadata": {
    "colab": {
     "base_uri": "https://localhost:8080/",
     "height": 202
    },
    "colab_type": "code",
    "id": "CKsrKVMDfQ9F",
    "outputId": "4ad9b8a6-93b3-4a62-faa7-4433d458b8c2"
   },
   "outputs": [
    {
     "name": "stdout",
     "output_type": "stream",
     "text": [
      "^C\n",
      "Note: you may need to restart the kernel to use updated packages.\n"
     ]
    }
   ],
   "source": [
    "pip install GetOldTweets3\n"
   ]
  },
  {
   "cell_type": "code",
   "execution_count": 2,
   "metadata": {
    "colab": {
     "base_uri": "https://localhost:8080/",
     "height": 1000
    },
    "colab_type": "code",
    "id": "e_cbGXWX6Nim",
    "outputId": "a67d5589-4255-4ebf-a7fd-809a4afb4b88"
   },
   "outputs": [
    {
     "ename": "ModuleNotFoundError",
     "evalue": "No module named 'pandas'",
     "output_type": "error",
     "traceback": [
      "\u001b[1;31m---------------------------------------------------------------------------\u001b[0m",
      "\u001b[1;31mModuleNotFoundError\u001b[0m                       Traceback (most recent call last)",
      "\u001b[1;32m<ipython-input-2-adb9cfa519bf>\u001b[0m in \u001b[0;36m<module>\u001b[1;34m\u001b[0m\n\u001b[1;32m----> 1\u001b[1;33m \u001b[1;32mimport\u001b[0m \u001b[0mpandas\u001b[0m \u001b[1;32mas\u001b[0m \u001b[0mpd\u001b[0m\u001b[1;33m\u001b[0m\u001b[1;33m\u001b[0m\u001b[0m\n\u001b[0m\u001b[0;32m      2\u001b[0m \u001b[1;33m\u001b[0m\u001b[0m\n\u001b[0;32m      3\u001b[0m \u001b[0mdeforma\u001b[0m\u001b[1;33m=\u001b[0m \u001b[0mpd\u001b[0m\u001b[1;33m.\u001b[0m\u001b[0mread_json\u001b[0m\u001b[1;33m(\u001b[0m\u001b[1;34m'/content/tweets_defor.jsonl'\u001b[0m\u001b[1;33m)\u001b[0m\u001b[1;33m\u001b[0m\u001b[1;33m\u001b[0m\u001b[0m\n\u001b[0;32m      4\u001b[0m \u001b[1;33m\u001b[0m\u001b[0m\n\u001b[0;32m      5\u001b[0m \u001b[0mdeforma\u001b[0m\u001b[1;33m\u001b[0m\u001b[1;33m\u001b[0m\u001b[0m\n",
      "\u001b[1;31mModuleNotFoundError\u001b[0m: No module named 'pandas'"
     ]
    }
   ],
   "source": [
    "import pandas as pd\n",
    "\n",
    "deforma= pd.read_json('/content/tweets_defor.jsonl')\n",
    "\n",
    "deforma"
   ]
  },
  {
   "cell_type": "code",
   "execution_count": null,
   "metadata": {
    "colab": {},
    "colab_type": "code",
    "id": "tJIIfYNhexn5"
   },
   "outputs": [],
   "source": [
    "# Importing GetOldTweets3\n",
    "import GetOldTweets3 as got\n",
    "# Importing pandas\n",
    "import pandas as pd\n",
    "\n",
    "def get_tweets(search, startdate, enddate, maxtweet):\n",
    "  tweetCriteria = got.manager.TweetCriteria().setQuerySearch(search)\\\n",
    "                                            .setSince(startdate)\\\n",
    "                                            .setUntil(enddate)\\\n",
    "                                            .setMaxTweets(maxtweet)\\\n",
    "                                            .setLang('es')\n",
    "  tweet = got.manager.TweetManager.getTweets(tweetCriteria)\n",
    "    \n",
    "  text_tweets = [[tw.username,\n",
    "                tw.text,\n",
    "                tw.date,\n",
    "                tw.retweets,\n",
    "                tw.favorites,\n",
    "                tw.mentions,\n",
    "                tw.hashtags,\n",
    "                tw.geo] for tw in tweet] \n",
    "  df_state= pd.DataFrame(text_tweets, columns = ['User', 'Text', 'Date', 'Favorites', 'Retweets', 'Mentions','Hashtags', 'Geolocation'])\n",
    "    \n",
    "  return df_state\n"
   ]
  },
  {
   "cell_type": "code",
   "execution_count": null,
   "metadata": {
    "colab": {
     "base_uri": "https://localhost:8080/",
     "height": 211
    },
    "colab_type": "code",
    "id": "dbr_FvsDggKA",
    "outputId": "6761ea4b-df1f-433a-97dd-1ad4dc9b56da"
   },
   "outputs": [],
   "source": [
    "df_1 = get_tweets('Coronavirus', \"2020-01-01\", \"2020-08-12\", 1000)\n",
    "df_1"
   ]
  },
  {
   "cell_type": "code",
   "execution_count": null,
   "metadata": {
    "colab": {},
    "colab_type": "code",
    "id": "tCt7jroHhbHQ"
   },
   "outputs": [],
   "source": [
    "# Importing GetOldTweets3\n",
    "import GetOldTweets3 as got\n",
    "# Importing pandas\n",
    "import pandas as pd\n",
    "\n",
    "def get_tweets_byuser(user, startdate, enddate, maxtweet):\n",
    "  tweetCriteria = got.manager.TweetCriteria().setUsername(user)\\\n",
    "                                            .setSince(startdate)\\\n",
    "                                            .setUntil(enddate)\\\n",
    "                                            .setMaxTweets(maxtweet)\\\n",
    "                                            .setLang('es')\n",
    "  tweet = got.manager.TweetManager.getTweets(tweetCriteria)\n",
    "    \n",
    "  text_tweets = [[tw.username,\n",
    "                tw.text,\n",
    "                tw.date,\n",
    "                tw.retweets,\n",
    "                tw.favorites,\n",
    "                tw.mentions,\n",
    "                tw.hashtags,\n",
    "                tw.geo] for tw in tweet] \n",
    "  df_state= pd.DataFrame(text_tweets, columns = ['User', 'Text', 'Date', 'Favorites', 'Retweets', 'Mentions','Hashtags', 'Geolocation'])\n",
    "    \n",
    "  return df_state"
   ]
  },
  {
   "cell_type": "code",
   "execution_count": null,
   "metadata": {
    "colab": {
     "base_uri": "https://localhost:8080/",
     "height": 597
    },
    "colab_type": "code",
    "id": "E-wZCaFopI72",
    "outputId": "57e85835-5e47-4c2c-c674-5a1db570fa79"
   },
   "outputs": [],
   "source": [
    "df_train = get_tweets_byuser('eldeforma', \"2020-01-01\", \"2020-08-12\", 10000)\n",
    "df_train"
   ]
  },
  {
   "cell_type": "code",
   "execution_count": null,
   "metadata": {
    "colab": {},
    "colab_type": "code",
    "id": "1nr44UNKA3s9"
   },
   "outputs": [],
   "source": [
    "df_train.to_csv('eldeforma_tweets.csv')"
   ]
  },
  {
   "cell_type": "code",
   "execution_count": 1,
   "metadata": {
    "colab": {
     "base_uri": "https://localhost:8080/",
     "height": 397
    },
    "colab_type": "code",
    "id": "QH8Hwq_T5A9A",
    "outputId": "3018c2b3-4cc8-4fce-f313-8feed74258a2"
   },
   "outputs": [
    {
     "data": {
      "text/html": [
       "<div>\n",
       "<style scoped>\n",
       "    .dataframe tbody tr th:only-of-type {\n",
       "        vertical-align: middle;\n",
       "    }\n",
       "\n",
       "    .dataframe tbody tr th {\n",
       "        vertical-align: top;\n",
       "    }\n",
       "\n",
       "    .dataframe thead th {\n",
       "        text-align: right;\n",
       "    }\n",
       "</style>\n",
       "<table border=\"1\" class=\"dataframe\">\n",
       "  <thead>\n",
       "    <tr style=\"text-align: right;\">\n",
       "      <th></th>\n",
       "      <th>User</th>\n",
       "      <th>Text</th>\n",
       "      <th>Date</th>\n",
       "      <th>Favorites</th>\n",
       "      <th>Retweets</th>\n",
       "      <th>Mentions</th>\n",
       "      <th>Hashtags</th>\n",
       "      <th>Geolocation</th>\n",
       "      <th>Prediction</th>\n",
       "    </tr>\n",
       "  </thead>\n",
       "  <tbody>\n",
       "    <tr>\n",
       "      <th>0</th>\n",
       "      <td>actualidadpanam</td>\n",
       "      <td>Vacuna rusa será vendida en sanandresitos. Ven...</td>\n",
       "      <td>2020-08-11 23:57:51+00:00</td>\n",
       "      <td>990</td>\n",
       "      <td>5057</td>\n",
       "      <td>NaN</td>\n",
       "      <td>NaN</td>\n",
       "      <td>NaN</td>\n",
       "      <td>1</td>\n",
       "    </tr>\n",
       "    <tr>\n",
       "      <th>1</th>\n",
       "      <td>actualidadpanam</td>\n",
       "      <td>Le ponen comparendo porque su permiso de movil...</td>\n",
       "      <td>2020-08-11 23:41:26+00:00</td>\n",
       "      <td>151</td>\n",
       "      <td>696</td>\n",
       "      <td>NaN</td>\n",
       "      <td>NaN</td>\n",
       "      <td>NaN</td>\n",
       "      <td>1</td>\n",
       "    </tr>\n",
       "    <tr>\n",
       "      <th>2</th>\n",
       "      <td>actualidadpanam</td>\n",
       "      <td>Película '¿Y dónde está el piloto?' predijo la...</td>\n",
       "      <td>2020-08-11 19:43:44+00:00</td>\n",
       "      <td>25</td>\n",
       "      <td>176</td>\n",
       "      <td>NaN</td>\n",
       "      <td>NaN</td>\n",
       "      <td>NaN</td>\n",
       "      <td>1</td>\n",
       "    </tr>\n",
       "    <tr>\n",
       "      <th>3</th>\n",
       "      <td>actualidadpanam</td>\n",
       "      <td>Para marzo de 2021, primer piloto de felicidad.</td>\n",
       "      <td>2020-08-11 17:50:43+00:00</td>\n",
       "      <td>63</td>\n",
       "      <td>348</td>\n",
       "      <td>NaN</td>\n",
       "      <td>NaN</td>\n",
       "      <td>NaN</td>\n",
       "      <td>1</td>\n",
       "    </tr>\n",
       "    <tr>\n",
       "      <th>4</th>\n",
       "      <td>actualidadpanam</td>\n",
       "      <td>Con vuelos Engativá-Suba y Fontibón-Usaquén co...</td>\n",
       "      <td>2020-08-11 17:40:35+00:00</td>\n",
       "      <td>381</td>\n",
       "      <td>2180</td>\n",
       "      <td>NaN</td>\n",
       "      <td>NaN</td>\n",
       "      <td>NaN</td>\n",
       "      <td>1</td>\n",
       "    </tr>\n",
       "  </tbody>\n",
       "</table>\n",
       "</div>"
      ],
      "text/plain": [
       "              User                                               Text  \\\n",
       "0  actualidadpanam  Vacuna rusa será vendida en sanandresitos. Ven...   \n",
       "1  actualidadpanam  Le ponen comparendo porque su permiso de movil...   \n",
       "2  actualidadpanam  Película '¿Y dónde está el piloto?' predijo la...   \n",
       "3  actualidadpanam    Para marzo de 2021, primer piloto de felicidad.   \n",
       "4  actualidadpanam  Con vuelos Engativá-Suba y Fontibón-Usaquén co...   \n",
       "\n",
       "                        Date  Favorites  Retweets Mentions Hashtags  \\\n",
       "0  2020-08-11 23:57:51+00:00        990      5057      NaN      NaN   \n",
       "1  2020-08-11 23:41:26+00:00        151       696      NaN      NaN   \n",
       "2  2020-08-11 19:43:44+00:00         25       176      NaN      NaN   \n",
       "3  2020-08-11 17:50:43+00:00         63       348      NaN      NaN   \n",
       "4  2020-08-11 17:40:35+00:00        381      2180      NaN      NaN   \n",
       "\n",
       "   Geolocation  Prediction  \n",
       "0          NaN           1  \n",
       "1          NaN           1  \n",
       "2          NaN           1  \n",
       "3          NaN           1  \n",
       "4          NaN           1  "
      ]
     },
     "execution_count": 1,
     "metadata": {},
     "output_type": "execute_result"
    }
   ],
   "source": [
    "import pandas as pd\n",
    "import numpy as np\n",
    "import math\n",
    "\n",
    "#Now everyone can replicate or results.\n",
    "np.random.seed(200419)\n",
    "\n",
    "tweetsok= pd.read_csv(\"full_neuron_testing.csv\")\n",
    "tweetsok.head()"
   ]
  },
  {
   "cell_type": "code",
   "execution_count": 2,
   "metadata": {
    "colab": {},
    "colab_type": "code",
    "id": "sQ7ejCwogims"
   },
   "outputs": [],
   "source": [
    "def standarize_column_name(col):\n",
    "    return col.lower().replace(' ','_').replace('/','_')"
   ]
  },
  {
   "cell_type": "code",
   "execution_count": 3,
   "metadata": {
    "colab": {
     "base_uri": "https://localhost:8080/",
     "height": 397
    },
    "colab_type": "code",
    "id": "foSLNb_CgnIC",
    "outputId": "1a7d5a65-76b6-42eb-c49b-833ec0a05271"
   },
   "outputs": [
    {
     "data": {
      "text/html": [
       "<div>\n",
       "<style scoped>\n",
       "    .dataframe tbody tr th:only-of-type {\n",
       "        vertical-align: middle;\n",
       "    }\n",
       "\n",
       "    .dataframe tbody tr th {\n",
       "        vertical-align: top;\n",
       "    }\n",
       "\n",
       "    .dataframe thead th {\n",
       "        text-align: right;\n",
       "    }\n",
       "</style>\n",
       "<table border=\"1\" class=\"dataframe\">\n",
       "  <thead>\n",
       "    <tr style=\"text-align: right;\">\n",
       "      <th></th>\n",
       "      <th>user</th>\n",
       "      <th>text</th>\n",
       "      <th>date</th>\n",
       "      <th>favorites</th>\n",
       "      <th>retweets</th>\n",
       "      <th>mentions</th>\n",
       "      <th>hashtags</th>\n",
       "      <th>geolocation</th>\n",
       "      <th>prediction</th>\n",
       "    </tr>\n",
       "  </thead>\n",
       "  <tbody>\n",
       "    <tr>\n",
       "      <th>0</th>\n",
       "      <td>actualidadpanam</td>\n",
       "      <td>Vacuna rusa será vendida en sanandresitos. Ven...</td>\n",
       "      <td>2020-08-11 23:57:51+00:00</td>\n",
       "      <td>990</td>\n",
       "      <td>5057</td>\n",
       "      <td></td>\n",
       "      <td></td>\n",
       "      <td></td>\n",
       "      <td>1</td>\n",
       "    </tr>\n",
       "    <tr>\n",
       "      <th>1</th>\n",
       "      <td>actualidadpanam</td>\n",
       "      <td>Le ponen comparendo porque su permiso de movil...</td>\n",
       "      <td>2020-08-11 23:41:26+00:00</td>\n",
       "      <td>151</td>\n",
       "      <td>696</td>\n",
       "      <td></td>\n",
       "      <td></td>\n",
       "      <td></td>\n",
       "      <td>1</td>\n",
       "    </tr>\n",
       "    <tr>\n",
       "      <th>2</th>\n",
       "      <td>actualidadpanam</td>\n",
       "      <td>Película '¿Y dónde está el piloto?' predijo la...</td>\n",
       "      <td>2020-08-11 19:43:44+00:00</td>\n",
       "      <td>25</td>\n",
       "      <td>176</td>\n",
       "      <td></td>\n",
       "      <td></td>\n",
       "      <td></td>\n",
       "      <td>1</td>\n",
       "    </tr>\n",
       "    <tr>\n",
       "      <th>3</th>\n",
       "      <td>actualidadpanam</td>\n",
       "      <td>Para marzo de 2021, primer piloto de felicidad.</td>\n",
       "      <td>2020-08-11 17:50:43+00:00</td>\n",
       "      <td>63</td>\n",
       "      <td>348</td>\n",
       "      <td></td>\n",
       "      <td></td>\n",
       "      <td></td>\n",
       "      <td>1</td>\n",
       "    </tr>\n",
       "    <tr>\n",
       "      <th>4</th>\n",
       "      <td>actualidadpanam</td>\n",
       "      <td>Con vuelos Engativá-Suba y Fontibón-Usaquén co...</td>\n",
       "      <td>2020-08-11 17:40:35+00:00</td>\n",
       "      <td>381</td>\n",
       "      <td>2180</td>\n",
       "      <td></td>\n",
       "      <td></td>\n",
       "      <td></td>\n",
       "      <td>1</td>\n",
       "    </tr>\n",
       "  </tbody>\n",
       "</table>\n",
       "</div>"
      ],
      "text/plain": [
       "              user                                               text  \\\n",
       "0  actualidadpanam  Vacuna rusa será vendida en sanandresitos. Ven...   \n",
       "1  actualidadpanam  Le ponen comparendo porque su permiso de movil...   \n",
       "2  actualidadpanam  Película '¿Y dónde está el piloto?' predijo la...   \n",
       "3  actualidadpanam    Para marzo de 2021, primer piloto de felicidad.   \n",
       "4  actualidadpanam  Con vuelos Engativá-Suba y Fontibón-Usaquén co...   \n",
       "\n",
       "                        date  favorites  retweets mentions hashtags  \\\n",
       "0  2020-08-11 23:57:51+00:00        990      5057                     \n",
       "1  2020-08-11 23:41:26+00:00        151       696                     \n",
       "2  2020-08-11 19:43:44+00:00         25       176                     \n",
       "3  2020-08-11 17:50:43+00:00         63       348                     \n",
       "4  2020-08-11 17:40:35+00:00        381      2180                     \n",
       "\n",
       "  geolocation  prediction  \n",
       "0                       1  \n",
       "1                       1  \n",
       "2                       1  \n",
       "3                       1  \n",
       "4                       1  "
      ]
     },
     "execution_count": 3,
     "metadata": {},
     "output_type": "execute_result"
    }
   ],
   "source": [
    "#Cleaning database\n",
    "tweetsok.rename(columns={element: standarize_column_name(element) for element in\n",
    "                         tweetsok.columns.values}, inplace=True)\n",
    "\n",
    "tweetsok = tweetsok.replace(np.nan, '', regex=True)\n",
    "tweetsok.head()\n"
   ]
  },
  {
   "cell_type": "code",
   "execution_count": 4,
   "metadata": {
    "colab": {},
    "colab_type": "code",
    "id": "yY0huBV2tYus"
   },
   "outputs": [],
   "source": [
    "from sklearn.base import BaseEstimator, TransformerMixin\n",
    "\n",
    "# text and numeric classes that use sklearn base libaries\n",
    "class TextTransformer(BaseEstimator, TransformerMixin):\n",
    "    \"\"\"\n",
    "    Transform text features\n",
    "    \"\"\"\n",
    "    def __init__(self, key):\n",
    "        self.key = key\n",
    "\n",
    "    def fit(self, X, y=None, *parg, **kwarg):\n",
    "        return self\n",
    "\n",
    "    def transform(self, X):\n",
    "        return X[self.key]\n",
    "\n",
    "class NumberTransformer(BaseEstimator, TransformerMixin):\n",
    "    \"\"\"\n",
    "    Transform numeric features\n",
    "    \"\"\"\n",
    "    def __init__(self, key):\n",
    "        self.key = key\n",
    "\n",
    "    def fit(self, X, y=None):\n",
    "        return self\n",
    "\n",
    "    def transform(self, X):\n",
    "        return X[[self.key]]"
   ]
  },
  {
   "cell_type": "markdown",
   "metadata": {
    "colab_type": "text",
    "id": "vMEkbO0WeAbc"
   },
   "source": [
    "\n",
    "# Algoritmos\n",
    "## Interpretación de las etiquetas\n",
    "\n",
    "Etiqueta positiva: es la categoría que queremos predecir. Pare este caso si el tweet es una noticia falsa (Fake News).\n",
    "\n",
    "Etiqueta negativa: el caso opuesto, es decir, la información es correcta.\n",
    "\n",
    "*   True positives (TP): Nuestra predicción dijo que el Tweet es Fake news y la etiqueta real dice que SÍ es.\n",
    "*   False positives (FP): Nuestra predicción dijo que el Tweet es Fake news y la etiqueta real dice que NO es.\n",
    "*   True negatives (TN): Nuestra predicción dijo que el Tweet es legítimo y la etiqueta real dice que es Fake.\n",
    "*   False negatvies (FN): Nuestra predicción dijo que el Tweet es legítimo y la etiqueta real dice que SÍ es legítimo.\n",
    "\n"
   ]
  },
  {
   "cell_type": "code",
   "execution_count": 5,
   "metadata": {
    "colab": {},
    "colab_type": "code",
    "id": "A1YVi8OBfp6P"
   },
   "outputs": [],
   "source": [
    "from sklearn.feature_extraction.text import TfidfVectorizer\n",
    "from sklearn.pipeline import Pipeline, FeatureUnion\n",
    "\n",
    "# use the term-frequency inverse document frequency vectorizer to transform count of text\n",
    "# into a weighed matrix of term importance\n",
    "vec_tdidf = TfidfVectorizer(ngram_range=(1,2), analyzer='word', norm='l2')\n",
    "\n",
    "# compile both the TextTransformer and TfidfVectorizer \n",
    "# to the text features\n",
    "text = Pipeline([\n",
    "                ('transformer', TextTransformer(key='text')),\n",
    "                ('vectorizer', vec_tdidf)\n",
    "                ])\n",
    "mentions = Pipeline([\n",
    "                ('transformer', TextTransformer(key='mentions')),\n",
    "                ('vectorizer', vec_tdidf)\n",
    "                ])\n",
    "hashtags = Pipeline([\n",
    "                ('transformer', TextTransformer(key='hashtags')),\n",
    "                ('vectorizer', vec_tdidf)\n",
    "                ])\n",
    "\n",
    "# compile the NumberTransformer\n",
    "# to the numeric features\n",
    "favorites = Pipeline([\n",
    "                ('transformer', NumberTransformer(key='favorites')),\n",
    "                ])\n",
    "retweets = Pipeline([\n",
    "                ('transformer', NumberTransformer(key='retweets')),\n",
    "                ])\n",
    "\n",
    "# combine all of the features, text and numeric together\n",
    "text_converted = FeatureUnion([('text', text),\n",
    "                               ('mentions', mentions),\n",
    "                               ('hashtags', hashtags),\n",
    "                               ('favorites', favorites),\n",
    "                               ('retweets', retweets)])\n"
   ]
  },
  {
   "cell_type": "code",
   "execution_count": 6,
   "metadata": {
    "colab": {
     "base_uri": "https://localhost:8080/",
     "height": 54
    },
    "colab_type": "code",
    "id": "yKWicdlefKDa",
    "outputId": "8f88a3cf-9733-4fae-c3cd-46f46fc29db0"
   },
   "outputs": [
    {
     "name": "stdout",
     "output_type": "stream",
     "text": [
      "training x: (11080, 5), y: (11080,)\n",
      "test x: (4749, 5), y: (4749,)\n"
     ]
    }
   ],
   "source": [
    "\n",
    "##Separate explicative and dependant variables\n",
    "x= tweetsok[['text', 'mentions', 'hashtags', 'favorites', 'retweets']]\n",
    "y= tweetsok.prediction\n",
    "\n",
    "##Separate training and test.\n",
    "from sklearn.model_selection import train_test_split\n",
    "\n",
    "x_train, x_test, y_train, y_test =train_test_split(x,y,test_size=0.3, random_state=200419)\n",
    "\n",
    "##Verify size\n",
    "print(\"training x: {}, y: {}\".format(x_train.shape,y_train.shape))\n",
    "print(\"test x: {}, y: {}\".format(x_test.shape,y_test.shape))"
   ]
  },
  {
   "cell_type": "code",
   "execution_count": 7,
   "metadata": {
    "colab": {
     "base_uri": "https://localhost:8080/",
     "height": 72
    },
    "colab_type": "code",
    "id": "ORHnYqWKsUDY",
    "outputId": "53b42a81-4f58-4e57-cb05-34b4be9c9f56"
   },
   "outputs": [
    {
     "name": "stdout",
     "output_type": "stream",
     "text": [
      "Fitting 3 folds for each of 18 candidates, totalling 54 fits\n"
     ]
    },
    {
     "name": "stderr",
     "output_type": "stream",
     "text": [
      "[Parallel(n_jobs=-1)]: Using backend LokyBackend with 8 concurrent workers.\n",
      "[Parallel(n_jobs=-1)]: Done  34 tasks      | elapsed:  3.6min\n",
      "[Parallel(n_jobs=-1)]: Done  54 out of  54 | elapsed:  5.1min finished\n"
     ]
    },
    {
     "name": "stdout",
     "output_type": "stream",
     "text": [
      "tiempo de ejecución en segundos: 315.0666003227234\n"
     ]
    }
   ],
   "source": [
    "## Random Forest Configuration\n",
    "from sklearn.model_selection import GridSearchCV\n",
    "from sklearn.ensemble import RandomForestClassifier\n",
    "import time\n",
    "\n",
    "rf = RandomForestClassifier(oob_score=True, n_jobs=-1)\n",
    "\n",
    "grid = {'rf__n_estimators': [300, 700,900], 'rf__min_samples_leaf': [2,3,5], \n",
    "       'rf__criterion':['gini','entropy']}\n",
    "\n",
    "# unite the text_converted and classfier together\n",
    "pipe = Pipeline([('text_converted', text_converted),\n",
    "                 ('rf', rf)\n",
    "                 ]) \n",
    "\n",
    "gs_rf = GridSearchCV(estimator = pipe, param_grid = grid, cv=3,verbose=1,\n",
    "                     scoring='f1', return_train_score=True, n_jobs=-1)\n",
    "\n",
    "start = time.time()\n",
    "# RF training\n",
    "gs_rf.fit(x_train, y_train)\n",
    "print(\"tiempo de ejecución en segundos: {}\".format(time.time() - start))\n"
   ]
  },
  {
   "cell_type": "code",
   "execution_count": 8,
   "metadata": {},
   "outputs": [
    {
     "data": {
      "text/plain": [
       "RandomForestClassifier(min_samples_leaf=2, n_estimators=300, n_jobs=-1,\n",
       "                       oob_score=True)"
      ]
     },
     "execution_count": 8,
     "metadata": {},
     "output_type": "execute_result"
    }
   ],
   "source": [
    "# Best estimator\n",
    "rd_test= gs_rf.best_estimator_.named_steps[\"rf\"]\n",
    "rd_test"
   ]
  },
  {
   "cell_type": "code",
   "execution_count": 25,
   "metadata": {},
   "outputs": [
    {
     "data": {
      "image/png": "[encoded data removed]",
      "text/plain": [
       "<Figure size 432x288 with 1 Axes>"
      ]
     },
     "metadata": {
      "needs_background": "light"
     },
     "output_type": "display_data"
    }
   ],
   "source": [
    "import matplotlib.pyplot as plt\n",
    "\n",
    "feature_importances = gs_rf.best_estimator_.named_steps[\"rf\"].feature_importances_\n",
    "\n",
    "feat_importances = pd.Series(feature_importances).sort_values(ascending=False)\n",
    "feat_importances.head(10).plot(kind='barh')\n",
    "plt.title(\"Top 10 Características más importantes\")\n",
    "plt.show()"
   ]
  },
  {
   "cell_type": "code",
   "execution_count": 14,
   "metadata": {},
   "outputs": [
    {
     "data": {
      "image/png": "[encoded data removed]",
      "text/plain": [
       "<Figure size 432x288 with 1 Axes>"
      ]
     },
     "metadata": {
      "needs_background": "light"
     },
     "output_type": "display_data"
    }
   ],
   "source": [
    "from sklearn.metrics import precision_recall_curve\n",
    "from sklearn.metrics import roc_curve, roc_auc_score\n",
    "import matplotlib.pyplot as plt\n",
    "\n",
    "# Predictions best estimator\n",
    "predicted_labels = gs_rf.predict(x_test)\n",
    "\n",
    "# Prediction scores best estimator\n",
    "predicted_scores = gs_rf.predict_proba(x_test)\n",
    "\n",
    "precision, recall, thresholds_2 = precision_recall_curve(y_test, predicted_scores[:,1], pos_label=1)\n",
    "\n",
    "thresholds_2 = np.append(thresholds_2, 1)\n",
    "\n",
    "%matplotlib inline\n",
    "\n",
    "fpr, tpr, thresholds = roc_curve(y_test, predicted_scores[:,1], pos_label=1)\n",
    "\n",
    "plt.clf()\n",
    "plt.plot([0,1],[0,1], 'k--', c=\"red\")\n",
    "plt.plot(fpr, tpr)\n",
    "plt.title(\"ROC best RF, AUC: {}\".format(roc_auc_score(y_test, predicted_labels)))\n",
    "plt.xlabel(\"fpr\")\n",
    "plt.ylabel(\"tpr\")\n",
    "plt.show()\n"
   ]
  },
  {
   "cell_type": "code",
   "execution_count": 15,
   "metadata": {},
   "outputs": [],
   "source": [
    "def get_metrics_report(fpr, tpr, thresholds, precision, recall, thresholds_2):\n",
    "    df_1 = pd.DataFrame({'threshold': thresholds_2,'precision': precision,\n",
    "                    'recall': recall})\n",
    "    df_1['f1_score'] = 2 * (df_1.precision * df_1.recall) / (df_1.precision + df_1.recall)\n",
    "    \n",
    "    df_2 = pd.DataFrame({'tpr': tpr, 'fpr': fpr, 'threshold': thresholds})\n",
    "    df_2['tnr'] = 1 - df_2['fpr']\n",
    "    df_2['fnr'] = 1 - df_2['tpr']\n",
    "    \n",
    "    df = df_1.merge(df_2, on=\"threshold\")\n",
    "    \n",
    "    return df"
   ]
  },
  {
   "cell_type": "code",
   "execution_count": 16,
   "metadata": {},
   "outputs": [
    {
     "data": {
      "text/html": [
       "<div>\n",
       "<style scoped>\n",
       "    .dataframe tbody tr th:only-of-type {\n",
       "        vertical-align: middle;\n",
       "    }\n",
       "\n",
       "    .dataframe tbody tr th {\n",
       "        vertical-align: top;\n",
       "    }\n",
       "\n",
       "    .dataframe thead th {\n",
       "        text-align: right;\n",
       "    }\n",
       "</style>\n",
       "<table border=\"1\" class=\"dataframe\">\n",
       "  <thead>\n",
       "    <tr style=\"text-align: right;\">\n",
       "      <th></th>\n",
       "      <th>threshold</th>\n",
       "      <th>precision</th>\n",
       "      <th>recall</th>\n",
       "      <th>f1_score</th>\n",
       "      <th>tpr</th>\n",
       "      <th>fpr</th>\n",
       "      <th>tnr</th>\n",
       "      <th>fnr</th>\n",
       "    </tr>\n",
       "  </thead>\n",
       "  <tbody>\n",
       "    <tr>\n",
       "      <th>36</th>\n",
       "      <td>0.492459</td>\n",
       "      <td>0.951165</td>\n",
       "      <td>0.987896</td>\n",
       "      <td>0.969183</td>\n",
       "      <td>0.987896</td>\n",
       "      <td>0.029197</td>\n",
       "      <td>0.970803</td>\n",
       "      <td>0.012104</td>\n",
       "    </tr>\n",
       "    <tr>\n",
       "      <th>37</th>\n",
       "      <td>0.494846</td>\n",
       "      <td>0.951002</td>\n",
       "      <td>0.984438</td>\n",
       "      <td>0.967431</td>\n",
       "      <td>0.984438</td>\n",
       "      <td>0.029197</td>\n",
       "      <td>0.970803</td>\n",
       "      <td>0.015562</td>\n",
       "    </tr>\n",
       "    <tr>\n",
       "      <th>38</th>\n",
       "      <td>0.496509</td>\n",
       "      <td>0.952062</td>\n",
       "      <td>0.984438</td>\n",
       "      <td>0.967980</td>\n",
       "      <td>0.984438</td>\n",
       "      <td>0.028534</td>\n",
       "      <td>0.971466</td>\n",
       "      <td>0.015562</td>\n",
       "    </tr>\n",
       "    <tr>\n",
       "      <th>39</th>\n",
       "      <td>0.498831</td>\n",
       "      <td>0.952009</td>\n",
       "      <td>0.983285</td>\n",
       "      <td>0.967394</td>\n",
       "      <td>0.983285</td>\n",
       "      <td>0.028534</td>\n",
       "      <td>0.971466</td>\n",
       "      <td>0.016715</td>\n",
       "    </tr>\n",
       "    <tr>\n",
       "      <th>40</th>\n",
       "      <td>0.500798</td>\n",
       "      <td>0.953605</td>\n",
       "      <td>0.983285</td>\n",
       "      <td>0.968218</td>\n",
       "      <td>0.983285</td>\n",
       "      <td>0.027538</td>\n",
       "      <td>0.972462</td>\n",
       "      <td>0.016715</td>\n",
       "    </tr>\n",
       "    <tr>\n",
       "      <th>...</th>\n",
       "      <td>...</td>\n",
       "      <td>...</td>\n",
       "      <td>...</td>\n",
       "      <td>...</td>\n",
       "      <td>...</td>\n",
       "      <td>...</td>\n",
       "      <td>...</td>\n",
       "      <td>...</td>\n",
       "    </tr>\n",
       "    <tr>\n",
       "      <th>161</th>\n",
       "      <td>0.813841</td>\n",
       "      <td>0.998514</td>\n",
       "      <td>0.387320</td>\n",
       "      <td>0.558140</td>\n",
       "      <td>0.387320</td>\n",
       "      <td>0.000332</td>\n",
       "      <td>0.999668</td>\n",
       "      <td>0.612680</td>\n",
       "    </tr>\n",
       "    <tr>\n",
       "      <th>162</th>\n",
       "      <td>0.814128</td>\n",
       "      <td>1.000000</td>\n",
       "      <td>0.387320</td>\n",
       "      <td>0.558371</td>\n",
       "      <td>0.387320</td>\n",
       "      <td>0.000000</td>\n",
       "      <td>1.000000</td>\n",
       "      <td>0.612680</td>\n",
       "    </tr>\n",
       "    <tr>\n",
       "      <th>163</th>\n",
       "      <td>0.920888</td>\n",
       "      <td>1.000000</td>\n",
       "      <td>0.041499</td>\n",
       "      <td>0.079690</td>\n",
       "      <td>0.041499</td>\n",
       "      <td>0.000000</td>\n",
       "      <td>1.000000</td>\n",
       "      <td>0.958501</td>\n",
       "    </tr>\n",
       "    <tr>\n",
       "      <th>164</th>\n",
       "      <td>0.920896</td>\n",
       "      <td>1.000000</td>\n",
       "      <td>0.040346</td>\n",
       "      <td>0.077562</td>\n",
       "      <td>0.040346</td>\n",
       "      <td>0.000000</td>\n",
       "      <td>1.000000</td>\n",
       "      <td>0.959654</td>\n",
       "    </tr>\n",
       "    <tr>\n",
       "      <th>165</th>\n",
       "      <td>0.972934</td>\n",
       "      <td>1.000000</td>\n",
       "      <td>0.000576</td>\n",
       "      <td>0.001152</td>\n",
       "      <td>0.000576</td>\n",
       "      <td>0.000000</td>\n",
       "      <td>1.000000</td>\n",
       "      <td>0.999424</td>\n",
       "    </tr>\n",
       "  </tbody>\n",
       "</table>\n",
       "<p>130 rows × 8 columns</p>\n",
       "</div>"
      ],
      "text/plain": [
       "     threshold  precision    recall  f1_score       tpr       fpr       tnr  \\\n",
       "36    0.492459   0.951165  0.987896  0.969183  0.987896  0.029197  0.970803   \n",
       "37    0.494846   0.951002  0.984438  0.967431  0.984438  0.029197  0.970803   \n",
       "38    0.496509   0.952062  0.984438  0.967980  0.984438  0.028534  0.971466   \n",
       "39    0.498831   0.952009  0.983285  0.967394  0.983285  0.028534  0.971466   \n",
       "40    0.500798   0.953605  0.983285  0.968218  0.983285  0.027538  0.972462   \n",
       "..         ...        ...       ...       ...       ...       ...       ...   \n",
       "161   0.813841   0.998514  0.387320  0.558140  0.387320  0.000332  0.999668   \n",
       "162   0.814128   1.000000  0.387320  0.558371  0.387320  0.000000  1.000000   \n",
       "163   0.920888   1.000000  0.041499  0.079690  0.041499  0.000000  1.000000   \n",
       "164   0.920896   1.000000  0.040346  0.077562  0.040346  0.000000  1.000000   \n",
       "165   0.972934   1.000000  0.000576  0.001152  0.000576  0.000000  1.000000   \n",
       "\n",
       "          fnr  \n",
       "36   0.012104  \n",
       "37   0.015562  \n",
       "38   0.015562  \n",
       "39   0.016715  \n",
       "40   0.016715  \n",
       "..        ...  \n",
       "161  0.612680  \n",
       "162  0.612680  \n",
       "163  0.958501  \n",
       "164  0.959654  \n",
       "165  0.999424  \n",
       "\n",
       "[130 rows x 8 columns]"
      ]
     },
     "execution_count": 16,
     "metadata": {},
     "output_type": "execute_result"
    }
   ],
   "source": [
    "metrics_report = get_metrics_report(fpr, tpr, thresholds, precision, recall, thresholds_2)\n",
    "metrics_report[metrics_report[\"fpr\"]<=0.03]"
   ]
  },
  {
   "cell_type": "code",
   "execution_count": 17,
   "metadata": {},
   "outputs": [
    {
     "data": {
      "text/plain": [
       "array([[2931,   83],\n",
       "       [  29, 1706]], dtype=int64)"
      ]
     },
     "execution_count": 17,
     "metadata": {},
     "output_type": "execute_result"
    }
   ],
   "source": [
    "from sklearn.metrics import confusion_matrix\n",
    "\n",
    "confusion_matrix(y_test, predicted_labels)"
   ]
  },
  {
   "cell_type": "code",
   "execution_count": 18,
   "metadata": {},
   "outputs": [
    {
     "data": {
      "text/plain": [
       "array([[2926,   88],\n",
       "       [  21, 1714]], dtype=int64)"
      ]
     },
     "execution_count": 18,
     "metadata": {},
     "output_type": "execute_result"
    }
   ],
   "source": [
    "from sklearn.metrics import confusion_matrix\n",
    "\n",
    "threshold= metrics_report[metrics_report[\"fpr\"]<=0.03][\"threshold\"].iloc[0]\n",
    "\n",
    "y_pred_prob= gs_rf.predict_proba(x_test)[:,1]\n",
    "    \n",
    "# predict diabetes if the predicted probability is greater or equal than threshold\n",
    "y_pred_prob[y_pred_prob >= threshold ] = 1\n",
    "y_pred_prob[y_pred_prob < threshold ] = 0\n",
    "\n",
    "confusion_matrix(y_test, y_pred_prob)"
   ]
  },
  {
   "cell_type": "code",
   "execution_count": null,
   "metadata": {},
   "outputs": [],
   "source": []
  }
 ],
 "metadata": {
  "colab": {
   "name": "Fake_news_prediction_model_es",
   "provenance": []
  },
  "kernelspec": {
   "display_name": "Python 3",
   "language": "python",
   "name": "python3"
  },
  "language_info": {
   "codemirror_mode": {
    "name": "ipython",
    "version": 3
   },
   "file_extension": ".py",
   "mimetype": "text/x-python",
   "name": "python",
   "nbconvert_exporter": "python",
   "pygments_lexer": "ipython3",
   "version": "3.8.5"
  }
 },
 "nbformat": 4,
 "nbformat_minor": 1
}
